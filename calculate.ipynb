{
 "cells": [
  {
   "cell_type": "markdown",
   "id": "f7a5518c-3ecb-4810-92c0-b76fd346e947",
   "metadata": {},
   "source": [
    "## Qualtrics to Filemaker pipeline"
   ]
  },
  {
   "cell_type": "markdown",
   "id": "cc46e132-2b4b-44e2-afec-11578204afb5",
   "metadata": {},
   "source": [
    "This notebook takes two input files:\n",
    "1. The survey output csv file downloaded from Qualtrics.\n",
    "2. An excel file that organizes words into their Parts of Speech (POS).\n",
    "\n",
    "<br>This notebook exports one file:\n",
    "1. A csv file with summary calculations that can be imported into Filemaker."
   ]
  },
  {
   "cell_type": "markdown",
   "id": "6cd34250-980d-4b99-9bb9-07cef333b6ba",
   "metadata": {},
   "source": [
    "#### <br><br>Input file 1: Qualtrics survey csv\n",
    "To export data from Qualtrics:\n",
    "- Select the correct survey.\n",
    "- Click on Data & Analysis on the top menu\n",
    "- Click on the Export & Import button (near the top right of the page)\n",
    "- Choose Export Data...\n",
    "- Choose CSV on the top menu of the pop up\n",
    "- Make sure \"Download all fields\" is checked\n",
    "- Make sure \"Use choice text\" is selected\n",
    "- Click Download\n",
    "<br><br>Other instructions:\n",
    "- You must tell this notebook the name of the qualtrics file you are using below, where it says \"define input file names\". You would change the file name being assigned to the `file` variable name. The file you are using must be in the same folder as this notebook, or you must include the relative or absolute path to the file (i.e. instead of \"Sample Survey.csv\" you would say \"~/Documents/mySurvey/Sample Survey.csv\")."
   ]
  },
  {
   "cell_type": "markdown",
   "id": "2f418937-4d89-42f9-ab55-8b841f00f23c",
   "metadata": {},
   "source": [
    "#### <br><br>Input file 2: POS excel file\n",
    "\n",
    "- Excel (xls or xlsx) file\n",
    "- Only one sheet in the excel file\n",
    "- Parts of Speech are listed in the first row (column names), ex. noun, verb, adjective\n",
    "- Words to be counted as each POS are listed below each appropriate column header\n",
    "- Go to https://github.com/aGitHasNoName/waxmanConsult/blob/main/POSmain.xlsx and click on View raw to download a sample file.\n",
    "- It is ok if the POS file has more words than are used in your survey. (If you want, you can have one main file where you assign words to POS for all surveys, or you can have separate files for different surveys/researchers/etc.)\n",
    "- It is ok if the survey uses more words than are in the pos file. Words that are not assigned to a POS in this file will be counted in the total word counts, but will not be included in the POS word counts.\n",
    "- You must tell this notebook the name of the POS file you are using below, where it says \"define input file names\". You would change the file name being assigned to the `pos_file` variable name. The POS file you are using must be in the same folder as this notebook, or you must include the relative or absolute path to the POS file (i.e. instead of \"POSmain.xlsx\" you would say \"~/Documents/mySurvey/POSmain.xlsx\")."
   ]
  },
  {
   "cell_type": "markdown",
   "id": "4e16554b-994c-4188-bbd8-fe52c010ded6",
   "metadata": {},
   "source": [
    "#### <br><br>To run the code in this notebook\n",
    "- First, change the input file names as explained above.\n",
    "- Go to Run in the menu above, choose Run All Cells.\n",
    "- If you get an error when defining file names, recheck that the file names match exactly and that they are in the same folder as this notebook (or you have used relative or absolute paths). You can click on the File Browser icon on the left side menu to view all the files in this folder.\n",
    "- If you need to rerun the code after getting an error, you can go to Run in the menu above and choose Restart Kernel and Run All Cells."
   ]
  },
  {
   "cell_type": "code",
   "execution_count": 1,
   "id": "85bc2a6b-f28a-4642-9c3d-62f848b03388",
   "metadata": {},
   "outputs": [],
   "source": [
    "# import required packages\n",
    "import pandas as pd\n",
    "from tkinter import Tk\n",
    "from tkinter.filedialog import askopenfilename\n",
    "from tkinter.simpledialog import askstring"
   ]
  },
  {
   "cell_type": "code",
   "execution_count": 2,
   "id": "a9438b12-9970-4298-9e66-a6b6eff887fb",
   "metadata": {},
   "outputs": [],
   "source": [
    "# user must supply survey name to be matched in the Filemaker database\n",
    "root = Tk()\n",
    "root.withdraw()\n",
    "survey_name = askstring(\"Survey Name\", \"Enter the name of this survey for the database:\")\n",
    "root.destroy()"
   ]
  },
  {
   "cell_type": "code",
   "execution_count": 3,
   "id": "c23ed955-bd82-4697-b117-9b06c46f91cc",
   "metadata": {},
   "outputs": [],
   "source": [
    "# let user select input file in browser\n",
    "\"\"\"Choose the Qualtrics Survey csv \n",
    "file you would like to convert.\"\"\"\n",
    "root = Tk()\n",
    "root.withdraw()\n",
    "file = askopenfilename(filetypes=[(\".csv file\", \".csv\")],title=\"Choose the Qualtrics Survey csv file you would like to convert\")\n",
    "root.destroy()"
   ]
  },
  {
   "cell_type": "code",
   "execution_count": 4,
   "id": "6113fcaa-f1e3-411f-9cd5-2dfb718495f4",
   "metadata": {},
   "outputs": [],
   "source": [
    "# let user select parts of speech file in browser\n",
    "\"\"\"Choose the Parts of Speech excel \n",
    "file you would like to use as a reference.\"\"\"\n",
    "root = Tk()\n",
    "root.withdraw()\n",
    "pos_file = askopenfilename(filetypes=[(\"excel file\", \".xlsx\"), (\"old excel file\", \".xls\")],title=\"Choose the Parts of Speech excel file you would like to use as a reference\")\n",
    "root.destroy()"
   ]
  },
  {
   "cell_type": "code",
   "execution_count": 5,
   "id": "51c27a99-f68a-464c-b0ef-c96c267aeb5b",
   "metadata": {},
   "outputs": [],
   "source": [
    "# collect parts of speech\n",
    "pos_dict = {k:list(v.dropna()) for k,v in pd.read_excel(pos_file).to_dict(\"series\").items()}"
   ]
  },
  {
   "cell_type": "code",
   "execution_count": 6,
   "id": "b14679ed-d9de-4c8f-84c7-b64c12c197ca",
   "metadata": {},
   "outputs": [],
   "source": [
    "# load survey input data\n",
    "df = pd.read_csv(file, skiprows=1)"
   ]
  },
  {
   "cell_type": "code",
   "execution_count": 7,
   "id": "7150ec22-9cfb-4fe2-a86a-99b45d6e1f2d",
   "metadata": {},
   "outputs": [],
   "source": [
    "# translate long qualtrics column headers to short column headers\n",
    "header_dict = {\"Recorded Date\": \"RecordedDate\",\n",
    "               \"Please provide your email address (to receive your payment): - Email\": \"email\", \n",
    "               \"Child's First and Last Name(we need this to ensure that survey responses are matched correctly with the experimental data; after that, the data will be anonymized):\": \"child_name\", \n",
    "               \"Child's Birthdate (example: December 15, 2012)\": \"birthday\", \n",
    "               \"Which language(s), other than English, is/are spoken at home? If English is the only language spoken, please write n/a.\": \"language\", \n",
    "               \"What percentage of the time does your child hear this language?\": \"lang_percent\"}\n",
    "vocab_dict = {i:i[i.rfind(\"-\")+2:] for i in [i for i in df.columns if \"Vocabulary checklist\" in i]}\n",
    "df = df.rename(header_dict, axis=1)\n",
    "df = df.rename(vocab_dict, axis=1)"
   ]
  },
  {
   "cell_type": "code",
   "execution_count": 8,
   "id": "17667d17-f492-46ab-b444-f7a47cc843f3",
   "metadata": {},
   "outputs": [],
   "source": [
    "# remove other columns that aren't being used\n",
    "df = df[list(header_dict.values()) + list(vocab_dict.values())]"
   ]
  },
  {
   "cell_type": "code",
   "execution_count": 9,
   "id": "6d0f706b-09d7-4bff-bc77-b6afb4728204",
   "metadata": {},
   "outputs": [],
   "source": [
    "# drop second header row\n",
    "df = df.drop(0)"
   ]
  },
  {
   "cell_type": "code",
   "execution_count": 10,
   "id": "d24d32e8-c2f9-43ed-ae9e-ac88d3f699d7",
   "metadata": {},
   "outputs": [],
   "source": [
    "# convert dataframe to dictionary\n",
    "df_d = df.to_dict(orient=\"records\")"
   ]
  },
  {
   "cell_type": "code",
   "execution_count": 11,
   "id": "9074ce1f-87c9-488e-8556-1d144cd18ce7",
   "metadata": {},
   "outputs": [],
   "source": [
    "# remove time and keep only date survey was taken\n",
    "for i in df_d:\n",
    "    i[\"RecordedDate\"] = i[\"RecordedDate\"].split(\" \")[0]"
   ]
  },
  {
   "cell_type": "code",
   "execution_count": 12,
   "id": "8bdc515e-56aa-47b3-82fe-ae1cd47db49b",
   "metadata": {},
   "outputs": [],
   "source": [
    "# collect and count words by total, understands, says, and all parts of speech\n",
    "for i in df_d:\n",
    "    u_list = [k.replace(\" \", \"-\") for k,v in i.items() if v==\"Understands\"]\n",
    "    s_list = [k.replace(\" \", \"-\") for k,v in i.items() if v==\"Understands and says\"]\n",
    "    t_list = u_list + s_list\n",
    "    pos_lists = {k: [word for word in t_list if word.replace(\"-\", \" \") in v] for k,v in pos_dict.items()}\n",
    "    # add words and counts to dictionary\n",
    "    i[\"UnderstandsWords\"] = (\" \").join(u_list)\n",
    "    i[\"UnderstandsCount\"] = len(u_list)\n",
    "    i[\"SaysWords\"] = (\" \").join(s_list)\n",
    "    i[\"SaysCount\"] = len(s_list)\n",
    "    i[\"TotalWords\"] = (\" \").join(t_list)\n",
    "    i[\"TotalCount\"] = len(t_list)\n",
    "    for k, v in pos_lists.items():\n",
    "        i[k + \"Words\"] = (\" \").join(v)\n",
    "        i[k + \"Count\"] = len(v)"
   ]
  },
  {
   "cell_type": "code",
   "execution_count": 13,
   "id": "6eb9befb-e817-48c9-81fd-e899e6925885",
   "metadata": {},
   "outputs": [],
   "source": [
    "# remove individual word columns\n",
    "keep_keys = [\"RecordedDate\", \"email\", \"child_name\", \n",
    "             \"birthday\", \"language\", \"lang_percent\", \n",
    "             \"UnderstandsWords\", \"UnderstandsCount\", \n",
    "             \"SaysWords\", \"SaysCount\",\n",
    "             \"TotalWords\", \"TotalCount\"]\n",
    "keep_keys = keep_keys + [i + \"Words\" for i in pos_lists.keys()] + [i + \"Count\" for i in pos_lists.keys()]\n",
    "final_dict = [{k:v for k,v in i.items() if k in keep_keys} for i in df_d]"
   ]
  },
  {
   "cell_type": "code",
   "execution_count": 14,
   "id": "1a82484b-f3c4-4817-b2ab-cf04532c464d",
   "metadata": {},
   "outputs": [],
   "source": [
    "# write final data to output file\n",
    "final_df = pd.DataFrame.from_dict(final_dict)\n",
    "final_df.to_csv(file.replace(\".csv\", \"OUT.csv\"), index=False)"
   ]
  },
  {
   "cell_type": "code",
   "execution_count": null,
   "id": "cfd31c4f-cb70-490c-b249-e2756edb88cd",
   "metadata": {},
   "outputs": [],
   "source": []
  }
 ],
 "metadata": {
  "kernelspec": {
   "display_name": "Python 3",
   "language": "python",
   "name": "python3"
  },
  "language_info": {
   "codemirror_mode": {
    "name": "ipython",
    "version": 3
   },
   "file_extension": ".py",
   "mimetype": "text/x-python",
   "name": "python",
   "nbconvert_exporter": "python",
   "pygments_lexer": "ipython3",
   "version": "3.9.12"
  }
 },
 "nbformat": 4,
 "nbformat_minor": 5
}
